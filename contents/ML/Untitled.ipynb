{
 "cells": [
  {
   "cell_type": "code",
   "execution_count": 15,
   "id": "53320b02",
   "metadata": {},
   "outputs": [],
   "source": [
    "################ IMPORT MEEEEEEEEE ######################\n",
    "import pandas as pd\n",
    "import numpy as np\n",
    "\n",
    "# metrics and helpful things\n",
    "from sklearn.metrics import roc_curve\n",
    "from sklearn.model_selection import cross_val_score, train_test_split\n",
    "\n",
    "# models\n",
    "from sklearn.ensemble import RandomForestClassifier\n",
    "\n",
    "\n",
    "\n",
    "# read some data\n",
    "heart_disease = pd.read_csv(\"../Data/CSVs/heart-disease.csv\")\n",
    "housing_df = pd.read_csv(\"../Data/CSVs/Housing.csv\")"
   ]
  },
  {
   "cell_type": "markdown",
   "id": "ed59e813",
   "metadata": {},
   "source": [
    "#### Classification Model Evaluation Method 1: Accuracy"
   ]
  },
  {
   "cell_type": "code",
   "execution_count": 14,
   "id": "a9b670b9",
   "metadata": {},
   "outputs": [
    {
     "name": "stdout",
     "output_type": "stream",
     "text": [
      "cross_val_score.mean() -> 0.8248087431693989\n",
      "Heart Disease Classifier Cross-Validated Accuracy: 82.48\n"
     ]
    }
   ],
   "source": [
    "# seed random\n",
    "np.random.seed(42)\n",
    "\n",
    "x = heart_disease.drop('target',axis=1)\n",
    "y = heart_disease['target']\n",
    "\n",
    "clf = RandomForestClassifier()\n",
    "cross_val_score_ = cross_val_score(clf, x, y, cv=5)\n",
    "\n",
    "print(f\"cross_val_score.mean() -> {cross_val_score_.mean()}\")\n",
    "\n",
    "cross_validated_accuracy_score = np.mean(cross_val_score_)\n",
    "\n",
    "print(f\"Heart Disease Classifier Cross-Validated Accuracy: {cross_validated_accuracy_score*100:.2f}\")"
   ]
  },
  {
   "cell_type": "markdown",
   "id": "b871decc",
   "metadata": {},
   "source": [
    "#### Classification Model Evaluation Model 2: Area Under the receiver operating characteristic curve (AUC/ROC)"
   ]
  },
  {
   "cell_type": "code",
   "execution_count": null,
   "id": "b9348d71",
   "metadata": {},
   "outputs": [],
   "source": [
    "# do train test split\n",
    "xtrain, xtest, ytrain, ytest = train_test_split(x, y, test_size=0.2)\n",
    "\n",
    "# fit the model\n",
    "clf.fit(xtrain, ytrain)\n",
    "\n",
    "# make predictions with probabilities \n",
    "y_probs = clf.predict_proba(xtest)\n",
    "\n",
    "#"
   ]
  },
  {
   "cell_type": "code",
   "execution_count": null,
   "id": "67001d5f",
   "metadata": {},
   "outputs": [],
   "source": []
  },
  {
   "cell_type": "code",
   "execution_count": null,
   "id": "b0a8ac53",
   "metadata": {},
   "outputs": [],
   "source": []
  }
 ],
 "metadata": {
  "kernelspec": {
   "display_name": "Python 3 (ipykernel)",
   "language": "python",
   "name": "python3"
  },
  "language_info": {
   "codemirror_mode": {
    "name": "ipython",
    "version": 3
   },
   "file_extension": ".py",
   "mimetype": "text/x-python",
   "name": "python",
   "nbconvert_exporter": "python",
   "pygments_lexer": "ipython3",
   "version": "3.9.12"
  }
 },
 "nbformat": 4,
 "nbformat_minor": 5
}
